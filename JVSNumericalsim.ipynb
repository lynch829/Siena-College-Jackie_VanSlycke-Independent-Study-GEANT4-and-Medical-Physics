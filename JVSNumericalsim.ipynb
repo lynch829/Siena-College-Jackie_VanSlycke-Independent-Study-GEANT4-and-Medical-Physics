{
 "cells": [
  {
   "cell_type": "markdown",
   "metadata": {},
   "source": [
    "\n",
    "Question 1\n",
    "Consider a proton with momentum of 500 MeV/c (0.5 GeV/c) that is passing through water. Suppose that this proton loses 1.5 MeV of energy for every cm of water it travels through.\n",
    "How far does the proton go before it loses all its energy. Solve this problem analytically.\n",
    "Your code here..."
   ]
  },
  {
   "cell_type": "code",
   "execution_count": null,
   "metadata": {
    "collapsed": false
   },
   "outputs": [],
   "source": [
    "import math\n",
    "mcsquared=938\n",
    "pc=500\n",
    "Etb=math.sqrt(mcsquared**2+pc**2)\n",
    "print(Etb)\n",
    "\n",
    "def energyloss(Etb,losspercm):\n",
    "    distancetraveled=[]\n",
    "    Et=1000\n",
    "    while Et>=500:\n",
    "        Et=Etb-losspercm\n",
    "        Etb=Et\n",
    "        distancetraveled.append(Etb)\n",
    "    print(len(distancetraveled))\n",
    "\n",
    "energyloss(Etb,1.5)"
   ]
  },
  {
   "cell_type": "code",
   "execution_count": null,
   "metadata": {
    "collapsed": false
   },
   "outputs": [],
   "source": [
    "import numpy\n",
    "import matplotlib.pylab as plt\n",
    "%matplotlib notebook\n",
    "\n",
    "x=numpy.linspace(0,900,1000)\n",
    "E=1062-1.5*x\n",
    "\n",
    "p = numpy.sqrt(E**2 - mcsquared**2)\n",
    "#y=10*x\n",
    "plt.figure(figsize=(8,4))\n",
    "\n",
    "plt.subplot(1,2,1)\n",
    "plt.plot(x,p,'b-',markersize=12)\n",
    "plt.title(\"Analytic Momentum vs. Distance\")\n",
    "plt.xlabel('Distance(cm)',fontsize=14)\n",
    "plt.ylabel('Momentum',fontsize=14)\n",
    "\n",
    "plt.subplot(1,2,2)\n",
    "plt.plot(x,E,'b-',markersize=12)\n",
    "plt.title(\"Analytic Energy vs. Distance\")\n",
    "plt.xlabel('Distance (m)',fontsize=14)\n",
    "plt.ylabel('Energy',fontsize=14)\n",
    "\n",
    "\n"
   ]
  },
  {
   "cell_type": "markdown",
   "metadata": {},
   "source": [
    "Let's solve the problem a different way. At first this way will seem much more difficult, but it actually makes later calculations more tractable.\n",
    "\n",
    "Calculate the velocity of the proton, given its momentum.\n",
    "\n",
    "Choose a small interval of time. I leave it up to you, but it will probably be quite small. A first guess might be a microsecond.\n",
    "\n",
    "Calculate how far the proton travels in that interval of time.\n",
    "\n",
    "Calculate the amount of energy the proton loses, traveling that distance.\n",
    "\n",
    "Recalculate the energy, momentum, and velocity of the proton.\n",
    "\n",
    "Repeat the above procedure until the proton has come to a stop. Be careful! It's possible to choose time steps so that the proton never comes to a complete stop! (See Zeno's paradox) You might want to decide on a minimum value for the speed, before it stops running."
   ]
  },
  {
   "cell_type": "code",
   "execution_count": null,
   "metadata": {
    "collapsed": false
   },
   "outputs": [],
   "source": [
    "p=500\n",
    "m = 938.0\n",
    "E = math.sqrt(m**2 + p**2)\n",
    "b=math.sqrt(1/((m/p)**2+1))   \n",
    "print(b)\n",
    "#b = p/E\n",
    "#print(b)\n",
    "\n",
    "v=b*(3e8)\n",
    "print(\"The proton is originally traveling at %f meters per second.\"%v)\n",
    "\n",
    "DISTANCETRAVELED=(1e-9)*v\n",
    "print(\"The proton travels %f meters in one nanosecond.\"%DISTANCETRAVELED)\n",
    "\n",
    "#1.5MeV for each cm\n",
    "newenergy=Etb-(100*DISTANCETRAVELED)\n",
    "print(\"The proton now has %f MeV of energy\"%newenergy)"
   ]
  },
  {
   "cell_type": "code",
   "execution_count": null,
   "metadata": {
    "collapsed": true
   },
   "outputs": [],
   "source": []
  },
  {
   "cell_type": "code",
   "execution_count": null,
   "metadata": {
    "collapsed": false
   },
   "outputs": [],
   "source": [
    "p=500\n",
    "b=math.sqrt(1/((m/p)**2+1))   \n",
    "v=b*(3e8)\n",
    "print(\"The proton is originally traveling at %f meters per second.\"%v)\n",
    "\n",
    "DISTANCETRAVELED=(10**-9)*v\n",
    "print(\"The proton travels %f meters in one nanosecond.\"%DISTANCETRAVELED)\n",
    "\n",
    "#1.5MeV for each cm\n",
    "newenergy=Etb-(100*DISTANCETRAVELED)\n",
    "print(\"The proton now has %f MeV of energy\"%newenergy)\n",
    "\n",
    "dt = 1e-9 # time step-size\n",
    "\n",
    "def simenergyloss(p,mcsquared):\n",
    "    momenta=[]\n",
    "    distance=[]\n",
    "    deltaE = []\n",
    "    Etb=math.sqrt(mcsquared**2+p**2)\n",
    "    energy=Etb\n",
    "    newenergy=Etb\n",
    "    totdist = 0\n",
    "    \n",
    "    while newenergy >=mcsquared:\n",
    "        #b=math.sqrt(1/((.511/p)**2+1)) \n",
    "        #print(newenergy)\n",
    "        newenergy = math.sqrt(p**2 + mcsquared**2)\n",
    "\n",
    "        b = p/newenergy\n",
    "        v=b*(3e8)\n",
    "        #print(v)\n",
    "        if v<=3000:\n",
    "            break\n",
    "            \n",
    "\n",
    "        DISTANCETRAVELED=(dt)*v\n",
    "        totdist += DISTANCETRAVELED\n",
    "        \n",
    "        #print(DISTANCETRAVELED,newenergy)\n",
    "        \n",
    "        dE = (1.5*DISTANCETRAVELED)\n",
    "        newenergy -= dE\n",
    "        \n",
    "        #print(\"new energy here: %f\" % (newenergy))\n",
    "        psq = (newenergy**2-mcsquared**2)\n",
    "        if psq<0:\n",
    "            break\n",
    "        p = math.sqrt(psq)\n",
    "        momenta.append(p)\n",
    "        distance.append(totdist)\n",
    "        deltaE.append(dE)\n",
    "        \n",
    "    print(len(momenta))\n",
    "    \n",
    "    return momenta,distance,deltaE\n",
    "\n",
    "    \n",
    "    \n",
    "#simenergyloss(500,938)"
   ]
  },
  {
   "cell_type": "code",
   "execution_count": null,
   "metadata": {
    "collapsed": false
   },
   "outputs": [],
   "source": [
    "p,d,dE = simenergyloss(500,938)"
   ]
  },
  {
   "cell_type": "code",
   "execution_count": null,
   "metadata": {
    "collapsed": false
   },
   "outputs": [],
   "source": [
    "plt.figure(figsize=(8,4))\n",
    "\n",
    "plt.subplot(1,2,1)\n",
    "plt.plot(d,p)\n",
    "plt.xlabel('Distance (cm)')\n",
    "plt.ylabel('Momentum (MeV/c)')\n",
    "\n",
    "\n",
    "\n",
    "\n",
    "plt.subplot(1,2,2)\n",
    "plt.plot(d,dE,'.',markersize=1)\n",
    "plt.xlabel('Distance (cm)')\n",
    "plt.ylabel('Momentum (MeV/c)')"
   ]
  },
  {
   "cell_type": "code",
   "execution_count": null,
   "metadata": {
    "collapsed": true
   },
   "outputs": [],
   "source": [
    "newdeltaE = []\n",
    "newdist = []\n",
    "\n",
    "distwidth = 0.5\n",
    "startdist = 0\n",
    "\n",
    "etot = 0\n",
    "for x,deltaE in zip(d,dE):\n",
    "    \n",
    "    if x>=startdist and x<startdist+distwidth:\n",
    "        etot += deltaE\n",
    "        \n",
    "    elif x>startdist+distwidth:\n",
    "        \n",
    "        newdeltaE.append(etot)\n",
    "        newdist.append(startdist + distwidth/2.0)\n",
    "        \n",
    "        startdist += distwidth\n",
    "        etot = deltaE"
   ]
  },
  {
   "cell_type": "code",
   "execution_count": null,
   "metadata": {
    "collapsed": false
   },
   "outputs": [],
   "source": [
    "plt.figure()\n",
    "#plt.subplot(1,2,2)\n",
    "plt.plot(newdist,newdeltaE,'o',markersize=2)\n",
    "plt.xlabel('Distance (cm)')\n",
    "plt.ylabel('Momentum (MeV/c)')\n",
    "plt.ylim(0,10)"
   ]
  },
  {
   "cell_type": "code",
   "execution_count": null,
   "metadata": {
    "collapsed": true
   },
   "outputs": [],
   "source": []
  }
 ],
 "metadata": {
  "kernelspec": {
   "display_name": "Python 3",
   "language": "python",
   "name": "python3"
  },
  "language_info": {
   "codemirror_mode": {
    "name": "ipython",
    "version": 3
   },
   "file_extension": ".py",
   "mimetype": "text/x-python",
   "name": "python",
   "nbconvert_exporter": "python",
   "pygments_lexer": "ipython3",
   "version": "3.6.0"
  }
 },
 "nbformat": 4,
 "nbformat_minor": 0
}

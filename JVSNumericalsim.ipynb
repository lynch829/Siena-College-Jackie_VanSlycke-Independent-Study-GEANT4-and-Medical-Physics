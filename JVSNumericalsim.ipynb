{
 "cells": [
  {
   "cell_type": "markdown",
   "metadata": {},
   "source": [
    "\n",
    "Question 1\n",
    "Consider a proton with momentum of 500 MeV/c (0.5 GeV/c) that is passing through water. Suppose that this proton loses 1.5 MeV of energy for every cm of water it travels through.\n",
    "How far does the proton go before it loses all its energy. Solve this problem analytically.\n",
    "Your code here..."
   ]
  },
  {
   "cell_type": "code",
   "execution_count": 1,
   "metadata": {
    "collapsed": false
   },
   "outputs": [
    {
     "name": "stdout",
     "output_type": "stream",
     "text": [
      "1062.94120251\n",
      "376\n"
     ]
    }
   ],
   "source": [
    "import math\n",
    "mcsquared=938\n",
    "pc=500\n",
    "Etb=math.sqrt(mcsquared**2+pc**2)\n",
    "print Etb\n",
    "\n",
    "def energyloss(Etb,losspercm):\n",
    "    distancetraveled=[]\n",
    "    Et=1000\n",
    "    while Et>=500:\n",
    "        Et=Etb-losspercm\n",
    "        Etb=Et\n",
    "        distancetraveled.append(Etb)\n",
    "    print len(distancetraveled)\n",
    "\n",
    "energyloss(Etb,1.5)"
   ]
  },
  {
   "cell_type": "code",
   "execution_count": 2,
   "metadata": {
    "collapsed": false
   },
   "outputs": [
    {
     "data": {
      "text/plain": [
       "(500, 1100)"
      ]
     },
     "execution_count": 2,
     "metadata": {},
     "output_type": "execute_result"
    },
    {
     "data": {
      "image/png": "[encoded data removed]",
      "text/plain": [
       "<matplotlib.figure.Figure at 0xa8f9e48>"
      ]
     },
     "metadata": {},
     "output_type": "display_data"
    }
   ],
   "source": [
    "import numpy\n",
    "import matplotlib.pylab as plt\n",
    "%matplotlib inline\n",
    "x=numpy.linspace(0,700)\n",
    "y=1062-1.5*x\n",
    "#y=10*x\n",
    "plt.plot(x,y,'b-',markersize=12)\n",
    "plt.title(\"Analytic Momentum vs. Distance\")\n",
    "plt.xlabel('Distance(cm)',fontsize=14)\n",
    "plt.ylabel('Momentum',fontsize=14)\n",
    "plt.xlim(0,400)\n",
    "plt.ylim(500,1100)"
   ]
  },
  {
   "cell_type": "markdown",
   "metadata": {},
   "source": [
    "Let's solve the problem a different way. At first this way will seem much more difficult, but it actually makes later calculations more tractable.\n",
    "\n",
    "Calculate the velocity of the proton, given its momentum.\n",
    "\n",
    "Choose a small interval of time. I leave it up to you, but it will probably be quite small. A first guess might be a microsecond.\n",
    "\n",
    "Calculate how far the proton travels in that interval of time.\n",
    "\n",
    "Calculate the amount of energy the proton loses, traveling that distance.\n",
    "\n",
    "Recalculate the energy, momentum, and velocity of the proton.\n",
    "\n",
    "Repeat the above procedure until the proton has come to a stop. Be careful! It's possible to choose time steps so that the proton never comes to a complete stop! (See Zeno's paradox) You might want to decide on a minimum value for the speed, before it stops running."
   ]
  },
  {
   "cell_type": "code",
   "execution_count": 3,
   "metadata": {
    "collapsed": false
   },
   "outputs": [
    {
     "name": "stdout",
     "output_type": "stream",
     "text": [
      "The proton is originally traveling at 299999843.327523 meters per second.\n",
      "The proton travels 0.300000 meters in one nanosecond.\n",
      "The proton now has 1032.941218 MeV of energy\n"
     ]
    }
   ],
   "source": [
    "p=500\n",
    "b=math.sqrt(1/((.511/p)**2+1))   \n",
    "v=b*(3*10**8)\n",
    "print \"The proton is originally traveling at %f meters per second.\"%v\n",
    "\n",
    "DISTANCETRAVELED=(10**-9)*v\n",
    "print \"The proton travels %f meters in one nanosecond.\"%DISTANCETRAVELED\n",
    "\n",
    "#1.5MeV for each cm\n",
    "newenergy=Etb-(100*DISTANCETRAVELED)\n",
    "print \"The proton now has %f MeV of energy\"%newenergy"
   ]
  },
  {
   "cell_type": "code",
   "execution_count": null,
   "metadata": {
    "collapsed": true
   },
   "outputs": [],
   "source": []
  },
  {
   "cell_type": "code",
   "execution_count": 28,
   "metadata": {
    "collapsed": false
   },
   "outputs": [
    {
     "name": "stdout",
     "output_type": "stream",
     "text": [
      "The proton is originally traveling at 299999843.327523 meters per second.\n",
      "The proton travels 0.300000 meters in one nanosecond.\n",
      "The proton now has 1032.941218 MeV of energy\n"
     ]
    }
   ],
   "source": [
    "p=500\n",
    "b=math.sqrt(1/((.511/p)**2+1))   \n",
    "v=b*(3*10**8)\n",
    "print \"The proton is originally traveling at %f meters per second.\"%v\n",
    "\n",
    "DISTANCETRAVELED=(10**-9)*v\n",
    "print \"The proton travels %f meters in one nanosecond.\"%DISTANCETRAVELED\n",
    "\n",
    "#1.5MeV for each cm\n",
    "newenergy=Etb-(100*DISTANCETRAVELED)\n",
    "print \"The proton now has %f MeV of energy\"%newenergy\n",
    "\n",
    "def simenergyloss(p,mcsquared):\n",
    "    traveled=[]\n",
    "    Etb=math.sqrt(mcsquared**2+p**2)\n",
    "    energy=Etb\n",
    "    newenergy=Etb\n",
    "    while newenergy >=500:\n",
    "        #b=math.sqrt(1/((.511/p)**2+1)) \n",
    "        print(newenergy)\n",
    "\n",
    "        b = p/newenergy\n",
    "        v=b*(3e8)\n",
    "        print(v)\n",
    "        if v<=3000:\n",
    "            break\n",
    "            \n",
    "\n",
    "        DISTANCETRAVELED=(1e-9)*v\n",
    "        print(DISTANCETRAVELED,newenergy)\n",
    "        newenergy -= (100*DISTANCETRAVELED)\n",
    "        print(\"new energy here: %f\" % (newenergy))\n",
    "        psq = (newenergy**2-mcsquared**2)\n",
    "        if psq<0:\n",
    "            break\n",
    "        p = math.sqrt(psq)\n",
    "        traveled.append(p)\n",
    "    print len(traveled)\n",
    "    return traveled\n",
    "\n",
    "    \n",
    "    \n",
    "#simenergyloss(500,938)"
   ]
  },
  {
   "cell_type": "code",
   "execution_count": 29,
   "metadata": {
    "collapsed": false
   },
   "outputs": [
    {
     "name": "stdout",
     "output_type": "stream",
     "text": [
      "1062.94120251\n",
      "141117871.473\n",
      "(0.1411178714733763, 1062.9412025131023)\n",
      "new energy here: 1048.829415\n",
      "1048.82941537\n",
      "134222155.027\n",
      "(0.1342221550272295, 1048.8294153657646)\n",
      "new energy here: 1035.407200\n",
      "1035.40719986\n",
      "127032240.467\n",
      "(0.12703224046720393, 1035.4071998630416)\n",
      "new energy here: 1022.703976\n",
      "1022.70397582\n",
      "119544396.247\n",
      "(0.1195443962470415, 1022.7039758163212)\n",
      "new energy here: 1010.749536\n",
      "1010.74953619\n",
      "111755995.328\n",
      "(0.11175599532826459, 1010.749536191617)\n",
      "new energy here: 999.573937\n",
      "999.573936659\n",
      "103665425.202\n",
      "(0.10366542520158296, 999.5739366587906)\n",
      "new energy here: 989.207394\n",
      "989.207394139\n",
      "95271820.7848\n",
      "(0.09527182078476878, 989.2073941386323)\n",
      "new energy here: 979.680212\n",
      "979.68021206\n",
      "86574496.0161\n",
      "(0.0865744960160805, 979.6802120601553)\n",
      "new energy here: 971.022762\n",
      "971.022762459\n",
      "77571840.8461\n",
      "(0.07757184084612992, 971.0227624585473)\n",
      "new energy here: 963.265578\n",
      "963.265578374\n",
      "68259205.398\n",
      "(0.06825920539801066, 963.2655783739343)\n",
      "new energy here: 956.439658\n",
      "956.439657834\n",
      "58624681.5466\n",
      "(0.05862468154661395, 956.4396578341333)\n",
      "new energy here: 950.577190\n",
      "950.577189679\n",
      "48639941.216\n",
      "(0.048639941216009716, 950.5771896794719)\n",
      "new energy here: 945.713196\n",
      "945.713195558\n",
      "38237225.0526\n",
      "(0.03823722505264262, 945.7131955578709)\n",
      "new energy here: 941.889473\n",
      "941.889473053\n",
      "27235343.2483\n",
      "(0.02723534324832838, 941.8894730526066)\n",
      "new energy here: 939.165939\n",
      "939.165938728\n",
      "14944043.3267\n",
      "(0.014944043326685637, 939.1659387277738)\n",
      "new energy here: 937.671534\n",
      "14\n"
     ]
    }
   ],
   "source": [
    "t = simenergyloss(500,938)"
   ]
  },
  {
   "cell_type": "code",
   "execution_count": 30,
   "metadata": {
    "collapsed": false
   },
   "outputs": [
    {
     "data": {
      "text/plain": [
       "[469.2538146211404,\n",
       " 438.43365464825393,\n",
       " 407.5284310947035,\n",
       " 376.52440148225315,\n",
       " 345.40419054717887,\n",
       " 314.145298577813,\n",
       " 282.7177353867827,\n",
       " 251.08007729134613,\n",
       " 219.1724765568664,\n",
       " 186.90323453026156,\n",
       " 154.1200620909641,\n",
       " 120.53816097933375,\n",
       " 85.50894366858294,\n",
       " 46.7831215976508]"
      ]
     },
     "execution_count": 30,
     "metadata": {},
     "output_type": "execute_result"
    }
   ],
   "source": [
    "t"
   ]
  },
  {
   "cell_type": "code",
   "execution_count": null,
   "metadata": {
    "collapsed": true
   },
   "outputs": [],
   "source": []
  }
 ],
 "metadata": {
  "kernelspec": {
   "display_name": "Python 2",
   "language": "python",
   "name": "python2"
  },
  "language_info": {
   "codemirror_mode": {
    "name": "ipython",
    "version": 2
   },
   "file_extension": ".py",
   "mimetype": "text/x-python",
   "name": "python",
   "nbconvert_exporter": "python",
   "pygments_lexer": "ipython2",
   "version": "2.7.10"
  }
 },
 "nbformat": 4,
 "nbformat_minor": 0
}

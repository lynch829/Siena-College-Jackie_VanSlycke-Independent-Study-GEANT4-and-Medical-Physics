{
 "cells": [
  {
   "cell_type": "markdown",
   "metadata": {},
   "source": [
    "Question 1 \n",
    "\n",
    "What is the relativistic relationship between energy, momentum, and mass? \n",
    "\n",
    "E^2=pc^2+(mc^2)^2 Total energy is the sum of rest energy and kinetic energy. A particle with no mass however, can still have a momentum and energy, relativistically. p=h/$\\lambda$"
   ]
  },
  {
   "cell_type": "markdown",
   "metadata": {},
   "source": [
    "Question 2\n",
    "\n",
    "$\\beta$ is defined as the velocity divided by $c$, the speed of light. What is the relativistic definition of the energy and momentum of a particle, given its mass and $\\beta$.\n",
    "\n",
    "E=$\\gamma$mc^2 p=$\\gamma$mv In order to find $\\gamma$, you calculate 1/sqrt(1-$\\beta$). In order to find velocity, you multiply $\\beta$ by the speed of light, c."
   ]
  },
  {
   "cell_type": "code",
   "execution_count": 14,
   "metadata": {
    "collapsed": false
   },
   "outputs": [
    {
     "name": "stdout",
     "output_type": "stream",
     "text": [
      "Beta for an electron at 0.001000 MeV is 0.001957\n",
      "Beta for an electron at 1.000000 MeV is 0.890475\n",
      "Beta for an electron at 10.000000 MeV is 0.998697\n",
      "Beta for an electron at 100.000000 MeV is 0.999987\n",
      "Beta for an electron at 1000.000000 MeV is 1.000000\n"
     ]
    }
   ],
   "source": [
    "import math\n",
    "#Question 3\n",
    "#What is $\\beta$ for an electron with momentum 1 keV, 1 MeV, 10 MeV, 100 MeV, 1000 MeV? \n",
    "\n",
    "#b=math.sqrt((.001/.511)**2+1)\n",
    "#print b\n",
    "x=[.001,1,10,100,1000]\n",
    "for i in x:\n",
    "    b=math.sqrt(1/((.511/i)**2+1))\n",
    "    #b=math.sqrt((i/.511)**2+1)\n",
    "    print \"Beta for an electron at %f MeV is %f\" %(i,b)\n",
    "\n"
   ]
  },
  {
   "cell_type": "code",
   "execution_count": 16,
   "metadata": {
    "collapsed": false
   },
   "outputs": [
    {
     "name": "stdout",
     "output_type": "stream",
     "text": [
      "Beta for an electron at 0.001000 MeV is 0.001957\n",
      "Beta for an electron at 1.000000 MeV is 0.890475\n",
      "Beta for an electron at 10.000000 MeV is 0.998697\n",
      "Beta for an electron at 100.000000 MeV is 0.999987\n",
      "Beta for an electron at 1000.000000 MeV is 1.000000\n",
      "Beta for a muon at 0.001000 MeV is 0.000009\n",
      "Beta for a muon at 1.000000 MeV is 0.009460\n",
      "Beta for a muon at 10.000000 MeV is 0.094187\n",
      "Beta for a muon at 100.000000 MeV is 0.687249\n",
      "Beta for a muon at 1000.000000 MeV is 0.994460\n",
      "Beta for a pion at 0.001000 MeV is 0.000007\n",
      "Beta for a pion at 1.000000 MeV is 0.007163\n",
      "Beta for a pion at 10.000000 MeV is 0.071450\n",
      "Beta for a pion at 100.000000 MeV is 0.582339\n",
      "Beta for a pion at 1000.000000 MeV is 0.990396\n",
      "Beta for a kaon at 0.001000 MeV is 0.000002\n",
      "Beta for a kaon at 1.000000 MeV is 0.002010\n",
      "Beta for a kaon at 10.000000 MeV is 0.020092\n",
      "Beta for a kaon at 100.000000 MeV is 0.197025\n",
      "Beta for a kaon at 1000.000000 MeV is 0.895285\n",
      "Beta for a proton at 0.001000 MeV is 0.000001\n",
      "Beta for a proton at 1.000000 MeV is 0.001066\n",
      "Beta for a proton at 10.000000 MeV is 0.010657\n",
      "Beta for a proton at 100.000000 MeV is 0.105976\n",
      "Beta for a proton at 1000.000000 MeV is 0.729246\n"
     ]
    }
   ],
   "source": [
    "#Question 4\n",
    "#Repeat the above for a muon, pion, kaon, and a proton\n",
    "\n",
    "x=[.001,1,10,100,1000]\n",
    "m=[.511,105.7,139.6,497.6,938.3]\n",
    "electron=[]\n",
    "muon=[]\n",
    "pion=[]\n",
    "kaon=[]\n",
    "proton=[]\n",
    "for j in m:\n",
    "    if j<1:\n",
    "        for i in x:\n",
    "            e=math.sqrt(1/((j/i)**2+1))\n",
    "            print \"Beta for an electron at %f MeV is %f\" %(i,e)\n",
    "            electron.append(e)\n",
    "    elif 100<j<130: \n",
    "        for i in x:\n",
    "            m=math.sqrt(1/((j/i)**2+1))\n",
    "            print \"Beta for a muon at %f MeV is %f\" %(i,m)\n",
    "            muon.append(m)\n",
    "    elif 130<j<300:\n",
    "        for i in x:\n",
    "            p=math.sqrt(1/((j/i)**2+1))\n",
    "            print \"Beta for a pion at %f MeV is %f\" %(i,p)\n",
    "            pion.append(p)\n",
    "    elif 450<j<500:\n",
    "        for i in x:\n",
    "            k=math.sqrt(1/((j/i)**2+1))\n",
    "            print \"Beta for a kaon at %f MeV is %f\" %(i,k)\n",
    "            kaon.append(k)\n",
    "    else:\n",
    "        for i in x:\n",
    "            Pr=math.sqrt(1/((j/i)**2+1))\n",
    "            print \"Beta for a proton at %f MeV is %f\" %(i,Pr)\n",
    "            proton.append(Pr)"
   ]
  },
  {
   "cell_type": "code",
   "execution_count": 27,
   "metadata": {
    "collapsed": false
   },
   "outputs": [
    {
     "data": {
      "text/plain": [
       "<matplotlib.legend.Legend at 0xcb2da90>"
      ]
     },
     "execution_count": 27,
     "metadata": {},
     "output_type": "execute_result"
    },
    {
     "data": {
      "image/png": "[encoded data removed]",
      "text/plain": [
       "<matplotlib.figure.Figure at 0xc464ef0>"
      ]
     },
     "metadata": {},
     "output_type": "display_data"
    }
   ],
   "source": [
    "#Question 5\n",
    "#For the 5 particles above, make a plot of $\\beta$ vs. momentum for the momentum range 0-10 GeV.\n",
    "\n",
    "import matplotlib.pylab as plt\n",
    "%matplotlib inline\n",
    "\n",
    "plt.plot(x,electron,'b-',markersize=6,label='Electron')\n",
    "plt.plot(x,muon,'r-',markersize=6,label='Muon')\n",
    "plt.plot(x,pion,'g-',markersize=6,label='Pion')\n",
    "plt.plot(x,kaon,'k-',markersize=6,label='Kaon')\n",
    "plt.plot(x,proton,'m-',markersize=6,label='Proton')\n",
    "\n",
    "# Add labels with a bigger font than the default.\n",
    "plt.xlabel('Momentum in MeV',fontsize=14)\n",
    "plt.ylabel('Beta',fontsize=14)\n",
    "\n",
    "# Change the plotting range for the xlimits (xlim) and ylimits (ylim).\n",
    "plt.xlim(-3,1100)\n",
    "plt.ylim(-1,1.5)\n",
    "\n",
    "# Add a title\n",
    "plt.title(\"beta vs. Momentum\")\n",
    "\n",
    "# Add a legend.\n",
    "plt.legend()"
   ]
  },
  {
   "cell_type": "code",
   "execution_count": null,
   "metadata": {
    "collapsed": true
   },
   "outputs": [],
   "source": []
  }
 ],
 "metadata": {
  "kernelspec": {
   "display_name": "Python 2",
   "language": "python",
   "name": "python2"
  },
  "language_info": {
   "codemirror_mode": {
    "name": "ipython",
    "version": 2
   },
   "file_extension": ".py",
   "mimetype": "text/x-python",
   "name": "python",
   "nbconvert_exporter": "python",
   "pygments_lexer": "ipython2",
   "version": "2.7.10"
  }
 },
 "nbformat": 4,
 "nbformat_minor": 0
}
